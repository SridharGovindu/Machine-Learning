{
 "cells": [
  {
   "cell_type": "markdown",
   "id": "efdcc713-0597-43a7-b622-d8f0de6d865c",
   "metadata": {},
   "source": [
    "# Q1"
   ]
  },
  {
   "cell_type": "code",
   "execution_count": 2,
   "id": "93f7d3b2-a7d8-4608-92d1-afe4d492f7b4",
   "metadata": {},
   "outputs": [
    {
     "name": "stdout",
     "output_type": "stream",
     "text": [
      "The no. of pairs with sum 10 are  2\n"
     ]
    }
   ],
   "source": [
    "def Pair(list, size, key): #function to check if pair of elements having sum as 10\n",
    "    count = 0 #holds count of no. of pairs \n",
    "    for i in range(0, size - 1):\n",
    "        for j in range(i + 1, size):\n",
    "            if (list[i] + list[j] == key): \n",
    "                count = count + 1\n",
    "    return count\n",
    "List = [2,7,4,1,3,6]\n",
    "search_key = 10 #search element\n",
    "size = len(List)\n",
    "total_count =  Pair(List, size, search_key)\n",
    "#total count of pairs\n",
    "print(\"The no. of pairs with sum 10 are \", total_count)"
   ]
  },
  {
   "cell_type": "markdown",
   "id": "491eb0a1-753f-47d3-b11c-cfd86031a49f",
   "metadata": {},
   "source": [
    "# Q2"
   ]
  },
  {
   "cell_type": "code",
   "execution_count": 3,
   "id": "27852069-e605-44e4-96ae-92934d43e19a",
   "metadata": {},
   "outputs": [
    {
     "name": "stdout",
     "output_type": "stream",
     "text": [
      "Range of the list is  4\n"
     ]
    }
   ],
   "source": [
    "# maximum in a list\n",
    "def max(list):\n",
    "    max = list[0] #initialise 1st element as max\n",
    "    for x in list:\n",
    "        if x > max:\n",
    "            max = x\n",
    "    return max\n",
    "# minimum in list \n",
    "def min(list):\n",
    "    min = list[0] #initialise first element as min\n",
    "    for x in list:\n",
    "        min = x\n",
    "    return min\n",
    "#main\n",
    "list = [5,3,8,1,0,4]\n",
    "range = max(list) - min(list)\n",
    "print(\"Range of the list is \",range)"
   ]
  },
  {
   "cell_type": "markdown",
   "id": "035743f8-6da0-4669-af9f-11ee0a1a4e93",
   "metadata": {},
   "source": [
    "# Q3"
   ]
  },
  {
   "cell_type": "code",
   "execution_count": 1,
   "id": "62109d3e-4fec-43d8-bae2-f56a836741d4",
   "metadata": {},
   "outputs": [
    {
     "name": "stdout",
     "output_type": "stream",
     "text": [
      "Enter the dimensions of the square matrix:  3\n"
     ]
    },
    {
     "name": "stdout",
     "output_type": "stream",
     "text": [
      "Enter the elements of the matrix row by row:\n"
     ]
    },
    {
     "name": "stdout",
     "output_type": "stream",
     "text": [
      "Element [1][1]:  1\n",
      "Element [1][2]:  2\n",
      "Element [1][3]:  3\n",
      "Element [2][1]:  4\n",
      "Element [2][2]:  5\n",
      "Element [2][3]:  6\n",
      "Element [3][1]:  7\n",
      "Element [3][2]:  8\n",
      "Element [3][3]:  9\n",
      "Enter the argument:  3\n"
     ]
    },
    {
     "name": "stdout",
     "output_type": "stream",
     "text": [
      "[468, 576, 684]\n",
      "[1062, 1305, 1548]\n",
      "[1656, 2034, 2412]\n"
     ]
    }
   ],
   "source": [
    "def matrix_multiplication(matrix, rows, m):\n",
    "    # Initialize result as an identity matrix for proper matrix multiplication\n",
    "    result = [[1 if i == j else 0 for j in range(rows)] for i in range(rows)]\n",
    "    \n",
    "    # Perform matrix multiplication m times\n",
    "    for _ in range(m):\n",
    "        mul = [[0 for _ in range(rows)] for _ in range(rows)]\n",
    "        for i in range(rows):\n",
    "            for j in range(rows):\n",
    "                for k in range(rows):\n",
    "                    mul[i][j] += result[i][k] * matrix[k][j]\n",
    "        result = mul\n",
    "    return result\n",
    "\n",
    "\n",
    "# main\n",
    "# dimensions of the square matrix\n",
    "rows = int(input(\"Enter the dimensions of the square matrix: \"))\n",
    "matrix = []\n",
    "matrix1 = []\n",
    "# matrix elements\n",
    "print(\"Enter the elements of the matrix row by row:\")\n",
    "for i in range(rows):\n",
    "    a = []\n",
    "    for j in range(rows):\n",
    "        a.append(int(input(f\"Element [{i+1}][{j+1}]: \")))\n",
    "    matrix.append(a)\n",
    "m = int(input(\"Enter the argument: \")) #no. of times to be multiplied\n",
    "matrix1 = matrix_multiplication(matrix, rows, m)\n",
    "for row in matrix1:\n",
    "    print(row)"
   ]
  },
  {
   "cell_type": "markdown",
   "id": "de6ac1c9-dac8-4868-9e94-77cf302ad41c",
   "metadata": {},
   "source": [
    "# Q4"
   ]
  },
  {
   "cell_type": "code",
   "execution_count": 5,
   "id": "a25366cf-9664-4b9f-8790-ce6bc4cb07cb",
   "metadata": {},
   "outputs": [
    {
     "name": "stdout",
     "output_type": "stream",
     "text": [
      "Enter a string:  hippopotamus\n"
     ]
    },
    {
     "name": "stdout",
     "output_type": "stream",
     "text": [
      "The maximally occuring character is 'p' with a count of 3.\n"
     ]
    }
   ],
   "source": [
    "def highest_occurrence_character(s):\n",
    "    # holds character counts\n",
    "    char_count = {}\n",
    "    \n",
    "    # Iterate of each character in given string\n",
    "    for char in s:\n",
    "        # If the character is not in the dictionary, initialize it\n",
    "        if char not in char_count:\n",
    "            char_count[char] = 0\n",
    "        # Increment the count for the character\n",
    "        char_count[char] += 1\n",
    "    \n",
    "    # Variables for highest occurrence character and its count\n",
    "    high_char = None\n",
    "    high_count = 0\n",
    "    \n",
    "    # to find the character with the highest count\n",
    "    for char in char_count:\n",
    "        if char_count[char] > high_count:\n",
    "            high_count = char_count[char]\n",
    "            high_char = char\n",
    "    \n",
    "    return high_char, high_count\n",
    "\n",
    "# main\n",
    "input_string = input(\"Enter a string: \")\n",
    "character, count = highest_occurrence_character(input_string)\n",
    "print(f\"The maximally occuring character is '{character}' with a count of {count}.\")"
   ]
  }
 ],
 "metadata": {
  "kernelspec": {
   "display_name": "Python 3 (ipykernel)",
   "language": "python",
   "name": "python3"
  },
  "language_info": {
   "codemirror_mode": {
    "name": "ipython",
    "version": 3
   },
   "file_extension": ".py",
   "mimetype": "text/x-python",
   "name": "python",
   "nbconvert_exporter": "python",
   "pygments_lexer": "ipython3",
   "version": "3.12.4"
  }
 },
 "nbformat": 4,
 "nbformat_minor": 5
}
